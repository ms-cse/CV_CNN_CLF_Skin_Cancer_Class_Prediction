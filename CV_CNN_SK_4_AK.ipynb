{
 "cells": [
  {
   "cell_type": "markdown",
   "id": "35031629-22f1-46f3-bf29-7af4305fcd5a",
   "metadata": {},
   "source": [
    "# CNN CLASSIFICATION - SKIN CANCER"
   ]
  },
  {
   "cell_type": "markdown",
   "id": "3eb28562-3273-4165-a0a9-75d0600620f0",
   "metadata": {},
   "source": [
    "## 1. Loading Modules and Configuration Settings"
   ]
  },
  {
   "cell_type": "code",
   "execution_count": 1,
   "id": "8b190ce6-d492-41e6-8ead-3024c2cd1d8f",
   "metadata": {
    "tags": []
   },
   "outputs": [
    {
     "name": "stdout",
     "output_type": "stream",
     "text": [
      "Using TensorFlow backend\n"
     ]
    }
   ],
   "source": [
    "import numpy as np\n",
    "import pandas as pd\n",
    "\n",
    "import matplotlib.pyplot as plt\n",
    "\n",
    "import tensorflow as tf\n",
    "from tensorflow import keras\n",
    "\n",
    "from sklearn.model_selection import train_test_split\n",
    "\n",
    "import autokeras as ak\n",
    "\n",
    "from skimage.io import imread, imshow"
   ]
  },
  {
   "cell_type": "code",
   "execution_count": 2,
   "id": "e783c5e3-4f3c-4cfd-9d93-584952e130ac",
   "metadata": {},
   "outputs": [],
   "source": [
    "# PD Options\n",
    "\n",
    "pd.set_option('display.min_rows', 5)\n",
    "pd.set_option('display.max_rows', 25)\n",
    "pd.set_option('display.precision', 4)"
   ]
  },
  {
   "cell_type": "markdown",
   "id": "14df52f7-d79e-40d8-a300-4993af446c32",
   "metadata": {},
   "source": [
    "## 2. Loading Dataset"
   ]
  },
  {
   "cell_type": "markdown",
   "id": "033e7f1d-2c5d-4bc7-9ed5-a293372c2163",
   "metadata": {},
   "source": [
    "### 2.1 Pickle File Content"
   ]
  },
  {
   "cell_type": "code",
   "execution_count": 3,
   "id": "b387b696-a3a8-4111-baa4-5c3d56a4fa20",
   "metadata": {
    "tags": []
   },
   "outputs": [
    {
     "name": "stdout",
     "output_type": "stream",
     "text": [
      "Shape of the Dataset: (700, 6)\n"
     ]
    },
    {
     "data": {
      "text/html": [
       "<div>\n",
       "<style scoped>\n",
       "    .dataframe tbody tr th:only-of-type {\n",
       "        vertical-align: middle;\n",
       "    }\n",
       "\n",
       "    .dataframe tbody tr th {\n",
       "        vertical-align: top;\n",
       "    }\n",
       "\n",
       "    .dataframe thead th {\n",
       "        text-align: right;\n",
       "    }\n",
       "</style>\n",
       "<table border=\"1\" class=\"dataframe\">\n",
       "  <thead>\n",
       "    <tr style=\"text-align: right;\">\n",
       "      <th></th>\n",
       "      <th>image_id</th>\n",
       "      <th>dx</th>\n",
       "      <th>tag</th>\n",
       "      <th>Label</th>\n",
       "      <th>path</th>\n",
       "      <th>image</th>\n",
       "    </tr>\n",
       "  </thead>\n",
       "  <tbody>\n",
       "    <tr>\n",
       "      <th>361</th>\n",
       "      <td>aug_akiec_50_8349081.jpg</td>\n",
       "      <td>akiec</td>\n",
       "      <td>augmented</td>\n",
       "      <td>0</td>\n",
       "      <td>./all_data_gen\\aug_akiec_50_8349081.jpg</td>\n",
       "      <td>[[[197, 129, 127], [200, 133, 139], [200, 136,...</td>\n",
       "    </tr>\n",
       "    <tr>\n",
       "      <th>73</th>\n",
       "      <td>ISIC_0033705.jpg</td>\n",
       "      <td>akiec</td>\n",
       "      <td>original</td>\n",
       "      <td>0</td>\n",
       "      <td>./all_data_gen\\ISIC_0033705.jpg</td>\n",
       "      <td>[[[192, 157, 178], [197, 155, 176], [177, 134,...</td>\n",
       "    </tr>\n",
       "    <tr>\n",
       "      <th>374</th>\n",
       "      <td>ISIC_0025712.jpg</td>\n",
       "      <td>akiec</td>\n",
       "      <td>original</td>\n",
       "      <td>0</td>\n",
       "      <td>./all_data_gen\\ISIC_0025712.jpg</td>\n",
       "      <td>[[[180, 127, 134], [178, 122, 125], [177, 121,...</td>\n",
       "    </tr>\n",
       "    <tr>\n",
       "      <th>155</th>\n",
       "      <td>ISIC_0033084.jpg</td>\n",
       "      <td>akiec</td>\n",
       "      <td>original</td>\n",
       "      <td>0</td>\n",
       "      <td>./all_data_gen\\ISIC_0033084.jpg</td>\n",
       "      <td>[[[132, 114, 122], [128, 111, 118], [128, 110,...</td>\n",
       "    </tr>\n",
       "    <tr>\n",
       "      <th>104</th>\n",
       "      <td>aug_akiec_19_5039450.jpg</td>\n",
       "      <td>akiec</td>\n",
       "      <td>augmented</td>\n",
       "      <td>0</td>\n",
       "      <td>./all_data_gen\\aug_akiec_19_5039450.jpg</td>\n",
       "      <td>[[[208, 103, 119], [206, 103, 105], [206, 102,...</td>\n",
       "    </tr>\n",
       "  </tbody>\n",
       "</table>\n",
       "</div>"
      ],
      "text/plain": [
       "                     image_id     dx        tag  Label  \\\n",
       "361  aug_akiec_50_8349081.jpg  akiec  augmented      0   \n",
       "73           ISIC_0033705.jpg  akiec   original      0   \n",
       "374          ISIC_0025712.jpg  akiec   original      0   \n",
       "155          ISIC_0033084.jpg  akiec   original      0   \n",
       "104  aug_akiec_19_5039450.jpg  akiec  augmented      0   \n",
       "\n",
       "                                        path  \\\n",
       "361  ./all_data_gen\\aug_akiec_50_8349081.jpg   \n",
       "73           ./all_data_gen\\ISIC_0033705.jpg   \n",
       "374          ./all_data_gen\\ISIC_0025712.jpg   \n",
       "155          ./all_data_gen\\ISIC_0033084.jpg   \n",
       "104  ./all_data_gen\\aug_akiec_19_5039450.jpg   \n",
       "\n",
       "                                                 image  \n",
       "361  [[[197, 129, 127], [200, 133, 139], [200, 136,...  \n",
       "73   [[[192, 157, 178], [197, 155, 176], [177, 134,...  \n",
       "374  [[[180, 127, 134], [178, 122, 125], [177, 121,...  \n",
       "155  [[[132, 114, 122], [128, 111, 118], [128, 110,...  \n",
       "104  [[[208, 103, 119], [206, 103, 105], [206, 102,...  "
      ]
     },
     "execution_count": 3,
     "metadata": {},
     "output_type": "execute_result"
    }
   ],
   "source": [
    "df = pd.read_pickle('ham_image_100.pkl')\n",
    "\n",
    "print(f'Shape of the Dataset: {df.shape}')\n",
    "df.head()"
   ]
  },
  {
   "cell_type": "markdown",
   "id": "5ba9b1ca-d591-417a-8440-35f8d49224fc",
   "metadata": {},
   "source": [
    "### 2.2 Sample Image"
   ]
  },
  {
   "cell_type": "code",
   "execution_count": 4,
   "id": "079a3507-9231-4ffe-b65d-76c605759653",
   "metadata": {
    "tags": []
   },
   "outputs": [
    {
     "name": "stdout",
     "output_type": "stream",
     "text": [
      "Class Label of the Image: mel\n",
      "Shape of the Image: (128, 128, 3)\n"
     ]
    },
    {
     "data": {
      "text/plain": [
       "<matplotlib.image.AxesImage at 0x2183abfded0>"
      ]
     },
     "execution_count": 4,
     "metadata": {},
     "output_type": "execute_result"
    },
    {
     "data": {
      "image/png": "[encoded data removed]",
      "text/plain": [
       "<Figure size 640x480 with 1 Axes>"
      ]
     },
     "metadata": {},
     "output_type": "display_data"
    }
   ],
   "source": [
    "img = df.sample()\n",
    "\n",
    "print(f'Class Label of the Image: {img[\"dx\"].values[0]}')\n",
    "print(f'Shape of the Image: {img[\"image\"].values[0].shape}')\n",
    "imshow(img['image'].values[0])"
   ]
  },
  {
   "cell_type": "markdown",
   "id": "2004b087-dfd9-40d2-b12a-5b3cea1d4095",
   "metadata": {},
   "source": [
    "### 2.3 Class Labels"
   ]
  },
  {
   "cell_type": "code",
   "execution_count": 5,
   "id": "24b15c6e-15fb-410b-b3e3-3431ab064d62",
   "metadata": {
    "tags": []
   },
   "outputs": [
    {
     "name": "stdout",
     "output_type": "stream",
     "text": [
      "Class Labels: ['akiec', 'bcc', 'bkl', 'df', 'mel', 'nv', 'vasc'] ... \n",
      "\n",
      "Number of Class Labels: 7 \n",
      "\n",
      "Class Distribution...\n"
     ]
    },
    {
     "data": {
      "text/plain": [
       "dx\n",
       "akiec    100\n",
       "bcc      100\n",
       "bkl      100\n",
       "df       100\n",
       "mel      100\n",
       "nv       100\n",
       "vasc     100\n",
       "Name: count, dtype: int64"
      ]
     },
     "execution_count": 5,
     "metadata": {},
     "output_type": "execute_result"
    }
   ],
   "source": [
    "class_names = df['dx'].unique().tolist()\n",
    "print(f'Class Labels: {class_names} ... \\n')\n",
    "\n",
    "nclasses = df['Label'].nunique()\n",
    "print(f'Number of Class Labels: {nclasses} \\n')\n",
    "\n",
    "print('Class Distribution...')\n",
    "df['dx'].value_counts()"
   ]
  },
  {
   "cell_type": "markdown",
   "id": "ad57e5eb-a3c0-4365-84dd-a0428bd98372",
   "metadata": {},
   "source": [
    "### 2.5 Perform Train, Test Split on Dataset"
   ]
  },
  {
   "cell_type": "markdown",
   "id": "af40fb36-24b0-4fcd-9ddd-80fc32c5dbed",
   "metadata": {},
   "source": [
    "#### 2.5.1 Prepare X and y"
   ]
  },
  {
   "cell_type": "code",
   "execution_count": 6,
   "id": "98756da2-e70e-4888-ad32-04876395c4e7",
   "metadata": {
    "tags": []
   },
   "outputs": [
    {
     "name": "stdout",
     "output_type": "stream",
     "text": [
      "Shape of X array: (700, 128, 128, 3)\n",
      "Shape of y array: (700,)\n"
     ]
    }
   ],
   "source": [
    "X = np.asarray(df['image'].tolist())\n",
    "print(f'Shape of X array: {X.shape}')\n",
    "X = X/255.\n",
    "\n",
    "y = np.asarray(df['Label'].values.tolist())\n",
    "print(f'Shape of y array: {y.shape}')"
   ]
  },
  {
   "cell_type": "markdown",
   "id": "c9810211-0997-4f61-abf9-64c612c867ad",
   "metadata": {},
   "source": [
    "#### 2.5.2 Train, Test Split"
   ]
  },
  {
   "cell_type": "code",
   "execution_count": 7,
   "id": "039a1fce-0822-4b76-9d08-88f212178dad",
   "metadata": {},
   "outputs": [],
   "source": [
    "Xtrain, Xtest, ytrain, ytest = train_test_split(X, y, test_size=20, random_state=46, stratify=y)"
   ]
  },
  {
   "cell_type": "markdown",
   "id": "10fe62d4-1e99-4444-be37-01cffeae880d",
   "metadata": {},
   "source": [
    "## 3. CNN Model Search using AutoKeras"
   ]
  },
  {
   "cell_type": "markdown",
   "id": "2d3d63b4-bd3d-4455-911c-fa9554303660",
   "metadata": {},
   "source": [
    "### 3.1 AutoKeras"
   ]
  },
  {
   "cell_type": "code",
   "execution_count": null,
   "id": "39b50a8d-88d2-4db2-af03-c7c1e3a99860",
   "metadata": {
    "tags": []
   },
   "outputs": [
    {
     "name": "stdout",
     "output_type": "stream",
     "text": [
      "Reloading Tuner from .\\image_classifier\\tuner0.json\n",
      "\n",
      "Search: Running Trial #3\n",
      "\n",
      "Value             |Best Value So Far |Hyperparameter\n",
      "efficient         |vanilla           |image_block_1/block_type\n",
      "True              |True              |image_block_1/normalize\n",
      "True              |False             |image_block_1/augment\n",
      "True              |None              |image_block_1/image_augmentation_1/horizontal_flip\n",
      "False             |None              |image_block_1/image_augmentation_1/vertical_flip\n",
      "0                 |None              |image_block_1/image_augmentation_1/contrast_factor\n",
      "0                 |None              |image_block_1/image_augmentation_1/rotation_factor\n",
      "0.1               |None              |image_block_1/image_augmentation_1/translation_factor\n",
      "0                 |None              |image_block_1/image_augmentation_1/zoom_factor\n",
      "True              |None              |image_block_1/efficient_net_block_1/pretrained\n",
      "b7                |None              |image_block_1/efficient_net_block_1/version\n",
      "True              |None              |image_block_1/efficient_net_block_1/trainable\n",
      "True              |None              |image_block_1/efficient_net_block_1/imagenet_size\n",
      "global_avg        |flatten           |classification_head_1/spatial_reduction_1/reduction_type\n",
      "0                 |0.5               |classification_head_1/dropout\n",
      "adam              |adam              |optimizer\n",
      "2e-05             |0.001             |learning_rate\n",
      "\n",
      "WARNING:tensorflow:Using a while_loop for converting RngReadAndSkip cause there is no registered converter for this op.\n",
      "WARNING:tensorflow:Using a while_loop for converting Bitcast cause there is no registered converter for this op.\n",
      "WARNING:tensorflow:Using a while_loop for converting Bitcast cause there is no registered converter for this op.\n",
      "WARNING:tensorflow:Using a while_loop for converting StatelessRandomUniformV2 cause there is no registered converter for this op.\n",
      "WARNING:tensorflow:Using a while_loop for converting RngReadAndSkip cause there is no registered converter for this op.\n",
      "WARNING:tensorflow:Using a while_loop for converting Bitcast cause there is no registered converter for this op.\n",
      "WARNING:tensorflow:Using a while_loop for converting Bitcast cause there is no registered converter for this op.\n",
      "WARNING:tensorflow:Using a while_loop for converting StatelessRandomUniformV2 cause there is no registered converter for this op.\n"
     ]
    }
   ],
   "source": [
    "clf = ak.ImageClassifier(max_trials=3, seed=46) \n",
    "clf.fit(Xtrain, ytrain, epochs=10)"
   ]
  },
  {
   "cell_type": "markdown",
   "id": "593bdbdd-2bea-4811-9690-546fc8943c3d",
   "metadata": {},
   "source": [
    "### 3.2 Model Evaluation (Test Dataset)"
   ]
  },
  {
   "cell_type": "code",
   "execution_count": null,
   "id": "7731161b-4662-4d82-870e-b074503fad35",
   "metadata": {},
   "outputs": [],
   "source": [
    "score = clf.evaluate(Xtest,ytest, verbose=0)\n",
    "print(f'Accuracy on Test Set: {score[1]}')"
   ]
  },
  {
   "cell_type": "markdown",
   "id": "74ed722e-3e92-428d-8138-95f0242e8288",
   "metadata": {},
   "source": [
    "### 3.3 Export and Save Model"
   ]
  },
  {
   "cell_type": "code",
   "execution_count": null,
   "id": "289c56aa-91e8-4f4b-b165-d29ec456a408",
   "metadata": {
    "tags": []
   },
   "outputs": [],
   "source": [
    "mdl = clf.export_model()\n",
    "print(mdl.summary())"
   ]
  },
  {
   "cell_type": "code",
   "execution_count": null,
   "id": "540bbbed-f17b-40db-b5b7-88ce13b517ae",
   "metadata": {
    "tags": []
   },
   "outputs": [],
   "source": [
    "#Save the model\n",
    "mdl.save('sk_best_mdl.keras')"
   ]
  },
  {
   "cell_type": "code",
   "execution_count": null,
   "id": "813b37a5-8c9a-4df3-a145-947182eba392",
   "metadata": {},
   "outputs": [],
   "source": []
  }
 ],
 "metadata": {
  "kernelspec": {
   "display_name": "Python 3 (ipykernel)",
   "language": "python",
   "name": "python3"
  },
  "language_info": {
   "codemirror_mode": {
    "name": "ipython",
    "version": 3
   },
   "file_extension": ".py",
   "mimetype": "text/x-python",
   "name": "python",
   "nbconvert_exporter": "python",
   "pygments_lexer": "ipython3",
   "version": "3.12.8"
  }
 },
 "nbformat": 4,
 "nbformat_minor": 5
}
