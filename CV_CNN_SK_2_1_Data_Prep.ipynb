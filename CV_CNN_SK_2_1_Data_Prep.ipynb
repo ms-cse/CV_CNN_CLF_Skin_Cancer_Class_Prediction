{
 "cells": [
  {
   "cell_type": "markdown",
   "id": "682933d4-a8d4-468c-aa0a-4ae165af2b7f",
   "metadata": {},
   "source": [
    "# CNN CLASSIFICATION - SKIN CANCER"
   ]
  },
  {
   "cell_type": "markdown",
   "id": "6581c6f7-c435-461d-817c-1d892b139acc",
   "metadata": {},
   "source": [
    "## 1. Import Modules and Configuration Settings"
   ]
  },
  {
   "cell_type": "code",
   "execution_count": 1,
   "id": "b1d1508b-787b-4816-8dba-def74b44bb38",
   "metadata": {
    "tags": []
   },
   "outputs": [],
   "source": [
    "import numpy as np\n",
    "import pandas as pd\n",
    "\n",
    "import os\n",
    "import shutil\n",
    "\n",
    "import splitfolders"
   ]
  },
  {
   "cell_type": "markdown",
   "id": "297543a4-d6f4-4527-98f0-2b4e9b00eade",
   "metadata": {
    "tags": []
   },
   "source": [
    "## 2. Data Preparation"
   ]
  },
  {
   "cell_type": "markdown",
   "id": "9e0ccfa9-3ae4-42d5-9a4b-0ef06c4d69d7",
   "metadata": {},
   "source": [
    "### 2.1 Input and Output Directories"
   ]
  },
  {
   "cell_type": "code",
   "execution_count": 2,
   "id": "d1fdc6cd-1a8e-4435-8a83-ff086c8a8e67",
   "metadata": {
    "tags": []
   },
   "outputs": [
    {
     "name": "stdout",
     "output_type": "stream",
     "text": [
      "F:\\PROJ\\CV\\sk/data/\n"
     ]
    }
   ],
   "source": [
    "inp_img_dir = os.getcwd() + '/data/'\n",
    "print(inp_img_dir)"
   ]
  },
  {
   "cell_type": "code",
   "execution_count": 3,
   "id": "a1e02f07-96fc-40f2-86d9-7beafd3e922f",
   "metadata": {
    "tags": []
   },
   "outputs": [
    {
     "name": "stdout",
     "output_type": "stream",
     "text": [
      "F:\\PROJ\\CV\\sk/folders/\n"
     ]
    }
   ],
   "source": [
    "out_img_dir = os.getcwd() + \"/folders/\"\n",
    "print(out_img_dir)"
   ]
  },
  {
   "cell_type": "markdown",
   "id": "f1ac9815-82c9-4b92-b48a-db2b2e78e061",
   "metadata": {},
   "source": [
    "### 2.2 Image IDs from MetaData File"
   ]
  },
  {
   "cell_type": "code",
   "execution_count": 4,
   "id": "2822af42-1a02-4124-829c-8d3eba28e7d4",
   "metadata": {
    "tags": []
   },
   "outputs": [
    {
     "data": {
      "text/html": [
       "<div>\n",
       "<style scoped>\n",
       "    .dataframe tbody tr th:only-of-type {\n",
       "        vertical-align: middle;\n",
       "    }\n",
       "\n",
       "    .dataframe tbody tr th {\n",
       "        vertical-align: top;\n",
       "    }\n",
       "\n",
       "    .dataframe thead th {\n",
       "        text-align: right;\n",
       "    }\n",
       "</style>\n",
       "<table border=\"1\" class=\"dataframe\">\n",
       "  <thead>\n",
       "    <tr style=\"text-align: right;\">\n",
       "      <th></th>\n",
       "      <th>lesion_id</th>\n",
       "      <th>image_id</th>\n",
       "      <th>dx</th>\n",
       "      <th>dx_type</th>\n",
       "      <th>age</th>\n",
       "      <th>sex</th>\n",
       "      <th>localization</th>\n",
       "    </tr>\n",
       "  </thead>\n",
       "  <tbody>\n",
       "    <tr>\n",
       "      <th>0</th>\n",
       "      <td>HAM_0000550</td>\n",
       "      <td>ISIC_0024306</td>\n",
       "      <td>nv</td>\n",
       "      <td>follow_up</td>\n",
       "      <td>45.0</td>\n",
       "      <td>male</td>\n",
       "      <td>trunk</td>\n",
       "    </tr>\n",
       "    <tr>\n",
       "      <th>1</th>\n",
       "      <td>HAM_0003577</td>\n",
       "      <td>ISIC_0024307</td>\n",
       "      <td>nv</td>\n",
       "      <td>follow_up</td>\n",
       "      <td>50.0</td>\n",
       "      <td>male</td>\n",
       "      <td>lower extremity</td>\n",
       "    </tr>\n",
       "    <tr>\n",
       "      <th>2</th>\n",
       "      <td>HAM_0001477</td>\n",
       "      <td>ISIC_0024308</td>\n",
       "      <td>nv</td>\n",
       "      <td>follow_up</td>\n",
       "      <td>55.0</td>\n",
       "      <td>female</td>\n",
       "      <td>trunk</td>\n",
       "    </tr>\n",
       "    <tr>\n",
       "      <th>3</th>\n",
       "      <td>HAM_0000484</td>\n",
       "      <td>ISIC_0024309</td>\n",
       "      <td>nv</td>\n",
       "      <td>follow_up</td>\n",
       "      <td>40.0</td>\n",
       "      <td>male</td>\n",
       "      <td>trunk</td>\n",
       "    </tr>\n",
       "    <tr>\n",
       "      <th>4</th>\n",
       "      <td>HAM_0003350</td>\n",
       "      <td>ISIC_0024310</td>\n",
       "      <td>mel</td>\n",
       "      <td>histo</td>\n",
       "      <td>60.0</td>\n",
       "      <td>male</td>\n",
       "      <td>chest</td>\n",
       "    </tr>\n",
       "  </tbody>\n",
       "</table>\n",
       "</div>"
      ],
      "text/plain": [
       "     lesion_id      image_id   dx    dx_type   age     sex     localization\n",
       "0  HAM_0000550  ISIC_0024306   nv  follow_up  45.0    male            trunk\n",
       "1  HAM_0003577  ISIC_0024307   nv  follow_up  50.0    male  lower extremity\n",
       "2  HAM_0001477  ISIC_0024308   nv  follow_up  55.0  female            trunk\n",
       "3  HAM_0000484  ISIC_0024309   nv  follow_up  40.0    male            trunk\n",
       "4  HAM_0003350  ISIC_0024310  mel      histo  60.0    male            chest"
      ]
     },
     "execution_count": 4,
     "metadata": {},
     "output_type": "execute_result"
    }
   ],
   "source": [
    "df = pd.read_csv('ham_meta.csv')\n",
    "df.head()"
   ]
  },
  {
   "cell_type": "code",
   "execution_count": 5,
   "id": "3be8167d-7826-401b-9ec0-6dbc8cedae44",
   "metadata": {
    "tags": []
   },
   "outputs": [
    {
     "name": "stdout",
     "output_type": "stream",
     "text": [
      "Count of Samples for each Class Label...\n"
     ]
    },
    {
     "data": {
      "text/plain": [
       "dx\n",
       "nv       6705\n",
       "mel      1113\n",
       "bkl      1099\n",
       "bcc       514\n",
       "akiec     327\n",
       "vasc      142\n",
       "df        115\n",
       "Name: count, dtype: int64"
      ]
     },
     "execution_count": 5,
     "metadata": {},
     "output_type": "execute_result"
    }
   ],
   "source": [
    "print('Count of Samples for each Class Label...')\n",
    "df['dx'].value_counts()"
   ]
  },
  {
   "cell_type": "markdown",
   "id": "e5394b6c-7b93-4f90-b892-644472c6073e",
   "metadata": {},
   "source": [
    "### 2.3 Categorizing Images based on Class Labels in Separate Folders"
   ]
  },
  {
   "cell_type": "code",
   "execution_count": 6,
   "id": "028584f1-3c58-41af-ad1b-c58bde3dbde7",
   "metadata": {
    "tags": []
   },
   "outputs": [
    {
     "name": "stdout",
     "output_type": "stream",
     "text": [
      "Unique Class Labels : ['nv', 'mel', 'bkl', 'df', 'akiec', 'bcc', 'vasc']\n"
     ]
    }
   ],
   "source": [
    "labs = df['dx'].unique().tolist()\n",
    "print(f'Unique Class Labels : {labs}')"
   ]
  },
  {
   "cell_type": "code",
   "execution_count": 7,
   "id": "68de751d-ff65-412e-8e96-d3f6a426c524",
   "metadata": {
    "tags": []
   },
   "outputs": [
    {
     "name": "stdout",
     "output_type": "stream",
     "text": [
      "Creating individual Image folders for each Class Labels ... \n",
      "\n",
      "Class Label: nv\n",
      "Done... \n",
      "\n",
      "Class Label: mel\n",
      "Done... \n",
      "\n",
      "Class Label: bkl\n",
      "Done... \n",
      "\n",
      "Class Label: df\n",
      "Done... \n",
      "\n",
      "Class Label: akiec\n",
      "Done... \n",
      "\n",
      "Class Label: bcc\n",
      "Done... \n",
      "\n",
      "Class Label: vasc\n",
      "Done... \n",
      "\n",
      "All Class Label Folders Created ...\n"
     ]
    }
   ],
   "source": [
    "list_img_ids = []               # list to hold the image ids for a specific label\n",
    "\n",
    "\n",
    "print('Creating individual Image folders for each Class Labels ... \\n')\n",
    "for lab in labs:\n",
    "    print(f'Class Label: {lab}')\n",
    "    img_ids = df[df['dx']==lab]['image_id']         # all image ids for a label\n",
    "    list_img_ids.extend(img_ids)                    # list of all images for a specific label\n",
    "    \n",
    "    os.mkdir(out_img_dir + str(lab))                # creating folder for a label\n",
    "      \n",
    "    for file in list_img_ids:\n",
    "        shutil.copyfile((inp_img_dir + file +\".jpg\"), (out_img_dir + lab + \"/\" + file +\".jpg\"))\n",
    "    \n",
    "    print('Done... \\n')\n",
    "    list_img_ids = []\n",
    "\n",
    "\n",
    "print('All Class Label Folders Created ...')"
   ]
  },
  {
   "cell_type": "markdown",
   "id": "7df44059-f4fc-43cd-9850-e1ac2f35483e",
   "metadata": {},
   "source": [
    "## 3. Performing Train, Validation, and Test Split on Folders (Images Data)"
   ]
  },
  {
   "cell_type": "code",
   "execution_count": 8,
   "id": "91223834-6a7e-4e62-8bd6-c46160e9d6c4",
   "metadata": {
    "tags": []
   },
   "outputs": [
    {
     "name": "stderr",
     "output_type": "stream",
     "text": [
      "Copying files: 10015 files [01:24, 119.09 files/s]\n"
     ]
    }
   ],
   "source": [
    "splitfolders.ratio(\"folders\", output=\"images\", seed=46, ratio=(.8, .1, .1), group_prefix=None, move=False)"
   ]
  },
  {
   "cell_type": "code",
   "execution_count": null,
   "id": "a7edefaa-5fb5-47d0-9110-f1336e04f104",
   "metadata": {},
   "outputs": [],
   "source": []
  }
 ],
 "metadata": {
  "kernelspec": {
   "display_name": "Python 3 (ipykernel)",
   "language": "python",
   "name": "python3"
  },
  "language_info": {
   "codemirror_mode": {
    "name": "ipython",
    "version": 3
   },
   "file_extension": ".py",
   "mimetype": "text/x-python",
   "name": "python",
   "nbconvert_exporter": "python",
   "pygments_lexer": "ipython3",
   "version": "3.12.8"
  }
 },
 "nbformat": 4,
 "nbformat_minor": 5
}
