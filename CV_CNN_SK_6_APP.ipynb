{
 "cells": [
  {
   "cell_type": "markdown",
   "id": "e0dd3184-acf9-437d-bfd3-62b679aa5403",
   "metadata": {},
   "source": [
    "# CNN CLASSIFICATION - SKIN CANCER Gradio App"
   ]
  },
  {
   "cell_type": "markdown",
   "id": "385b1d0b-4a27-4c8c-8a18-fea2dab9f443",
   "metadata": {},
   "source": [
    "## 1. Modules Import and Configuration Setting"
   ]
  },
  {
   "cell_type": "code",
   "execution_count": 1,
   "id": "4d1f6903-6521-4f50-97f7-d0d145edb1bf",
   "metadata": {
    "tags": []
   },
   "outputs": [],
   "source": [
    "import numpy as np\n",
    "import pandas as pd\n",
    "\n",
    "import cv2 as cv\n",
    "import tensorflow as tf\n",
    "from tensorflow import keras\n",
    "\n",
    "import gradio as gr\n",
    "\n",
    "import warnings\n",
    "warnings.filterwarnings('ignore')"
   ]
  },
  {
   "cell_type": "markdown",
   "id": "d4fd8797-ed8f-4f7e-92d2-d94a5af53dc9",
   "metadata": {},
   "source": [
    "## 2. Load Model and Class Names"
   ]
  },
  {
   "cell_type": "code",
   "execution_count": 2,
   "id": "55afced9-64ee-49a8-b650-0fca0c4415be",
   "metadata": {
    "tags": []
   },
   "outputs": [],
   "source": [
    "mdl = tf.keras.models.load_model('sk_best_mdl.keras')"
   ]
  },
  {
   "cell_type": "code",
   "execution_count": 3,
   "id": "37f2ec3b-2eaa-43f3-9d81-14b6b4d30680",
   "metadata": {
    "tags": []
   },
   "outputs": [],
   "source": [
    "class_names = ['akiec', 'bcc', 'bkl', 'df', 'mel', 'nv', 'vasc']"
   ]
  },
  {
   "cell_type": "markdown",
   "id": "f3d7fcb3-89c0-457f-99c1-ca232117017d",
   "metadata": {},
   "source": [
    "## 3. Gradio App"
   ]
  },
  {
   "cell_type": "markdown",
   "id": "054f0388-c21b-4b27-aaef-58c362be2335",
   "metadata": {},
   "source": [
    "### 3.1 Prediction Function"
   ]
  },
  {
   "cell_type": "code",
   "execution_count": 4,
   "id": "5072cbfd-a349-41a8-bf1f-240d19aeb190",
   "metadata": {
    "tags": []
   },
   "outputs": [],
   "source": [
    "def pred_sk(img):   \n",
    "    # preprocessing\n",
    "    img = cv.resize(img,(128,128))        # resizing to 128x128 resolution\n",
    "    inp = img.reshape((1,128,128,3))      # reshaping array\n",
    "    inp = tf.cast(inp/255. , tf.float32)  # rescaling\n",
    "    \n",
    "    # prediction\n",
    "    res = mdl.predict(inp, verbose=0)[0]\n",
    "    \n",
    "    res = {class_names[i]: float(res[i]) for i in range(len(class_names))}\n",
    "        \n",
    "    return res"
   ]
  },
  {
   "cell_type": "markdown",
   "id": "721c82a7-0d9a-406e-883a-d5cdc91b3a65",
   "metadata": {},
   "source": [
    "### 3.2 Setting I/O"
   ]
  },
  {
   "cell_type": "code",
   "execution_count": 5,
   "id": "6a917ae9-ee03-432b-b4bc-1662ba312bc9",
   "metadata": {
    "tags": []
   },
   "outputs": [],
   "source": [
    "img = gr.inputs.Image(shape=(128,128))\n",
    "lab = gr.outputs.Label(num_top_classes=7)"
   ]
  },
  {
   "cell_type": "markdown",
   "id": "c16a058e-313b-4420-a304-0e7a2d5199f1",
   "metadata": {},
   "source": [
    "### 3.3 Creating Gradio App Interface"
   ]
  },
  {
   "cell_type": "code",
   "execution_count": 6,
   "id": "d6110834-6d88-4588-b314-87cef9027812",
   "metadata": {
    "tags": []
   },
   "outputs": [],
   "source": [
    "iface = gr.Interface(fn=pred_sk, inputs=img, outputs=lab, layout='horizontal', theme='soft', \n",
    "        title='Skin Cancer Classification App', \n",
    "        description=\"Provide image of the Skin Cancer ('akiec', 'bcc', 'bkl', 'df', 'mel', 'nv', 'vasc')\", \n",
    "        article='Created by: Manish Sharma')"
   ]
  },
  {
   "cell_type": "code",
   "execution_count": 7,
   "id": "ecb2c55f-3748-42ee-b43d-570bd81ef99a",
   "metadata": {
    "tags": []
   },
   "outputs": [
    {
     "name": "stdout",
     "output_type": "stream",
     "text": [
      "Running on local URL:  http://127.0.0.1:7860\n",
      "\n",
      "To create a public link, set `share=True` in `launch()`.\n"
     ]
    },
    {
     "data": {
      "text/html": [
       "<div><iframe src=\"http://127.0.0.1:7860/\" width=\"1200\" height=\"500\" allow=\"autoplay; camera; microphone; clipboard-read; clipboard-write;\" frameborder=\"0\" allowfullscreen></iframe></div>"
      ],
      "text/plain": [
       "<IPython.core.display.HTML object>"
      ]
     },
     "metadata": {},
     "output_type": "display_data"
    },
    {
     "name": "stdout",
     "output_type": "stream",
     "text": [
      "Keyboard interruption in main thread... closing server.\n"
     ]
    },
    {
     "data": {
      "text/plain": []
     },
     "execution_count": 7,
     "metadata": {},
     "output_type": "execute_result"
    }
   ],
   "source": [
    "iface.launch(share=False, debug=True, width=1200, height=500)"
   ]
  },
  {
   "cell_type": "code",
   "execution_count": null,
   "id": "9c9fc633-e055-4747-956e-433b08a40d31",
   "metadata": {},
   "outputs": [],
   "source": []
  }
 ],
 "metadata": {
  "kernelspec": {
   "display_name": "Python 3 (ipykernel)",
   "language": "python",
   "name": "python3"
  },
  "language_info": {
   "codemirror_mode": {
    "name": "ipython",
    "version": 3
   },
   "file_extension": ".py",
   "mimetype": "text/x-python",
   "name": "python",
   "nbconvert_exporter": "python",
   "pygments_lexer": "ipython3",
   "version": "3.12.8"
  }
 },
 "nbformat": 4,
 "nbformat_minor": 5
}
